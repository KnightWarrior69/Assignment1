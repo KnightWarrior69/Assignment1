{
 "cells": [
  {
   "cell_type": "markdown",
   "id": "2891db56-4d18-4875-b300-788176eb9458",
   "metadata": {},
   "source": [
    "# Assignment 1 #"
   ]
  },
  {
   "cell_type": "markdown",
   "id": "cc7498c9-d007-4309-94bf-62ad670f07d0",
   "metadata": {},
   "source": [
    " ### Basic variable based questions ###\n",
    "\n",
    " 1. Declare two variables, `x` and `y`, and assign them integer values. Swap the values of these variables without using any temporary variable."
   ]
  },
  {
   "cell_type": "code",
   "execution_count": 6,
   "id": "f023043e-24f6-416f-bb70-a5638e62efc0",
   "metadata": {},
   "outputs": [
    {
     "name": "stdout",
     "output_type": "stream",
     "text": [
      "The value of x before swapping is 10\n",
      "The value of y before swapping is 60\n",
      "The value of x post swapping is 60\n",
      "The value of y post swapping is 10\n"
     ]
    }
   ],
   "source": [
    "x=10\n",
    "y=60\n",
    "print('The value of x before swapping is', x)\n",
    "print('The value of y before swapping is', y)\n",
    "x=x+y\n",
    "y=x-y\n",
    "x=x-y\n",
    "print('The value of x post swapping is', x)\n",
    "print('The value of y post swapping is', y)"
   ]
  },
  {
   "cell_type": "markdown",
   "id": "05e4611d-20f2-48c8-8e71-1d083e7d0684",
   "metadata": {},
   "source": [
    "2. Create a program that calculates the area of a rectangle. Take the length and width as inputs from the user and store them in variables. Calculate and display the area."
   ]
  },
  {
   "cell_type": "code",
   "execution_count": 8,
   "id": "7b116a98-59c1-4585-aa73-8926afd5d9db",
   "metadata": {},
   "outputs": [
    {
     "name": "stdin",
     "output_type": "stream",
     "text": [
      "Enter the value of length 45\n",
      "Enter the value of width 78\n"
     ]
    },
    {
     "name": "stdout",
     "output_type": "stream",
     "text": [
      "The area of the rectangle is 3510.0\n"
     ]
    }
   ],
   "source": [
    "x= float(input('Enter the value of length'))\n",
    "y= float(input('Enter the value of width'))\n",
    "print('The area of the rectangle is', x*y)"
   ]
  },
  {
   "cell_type": "markdown",
   "id": "56b444d0-357e-40dd-a09e-e21b4829337e",
   "metadata": {},
   "source": [
    "3. Write a Python program that converts temperatures from Celsius to Fahrenheit. Take the temperature in Celsius as input, store it in a variable, convert it to Fahrenheit, and display the result."
   ]
  },
  {
   "cell_type": "code",
   "execution_count": 9,
   "id": "0ca85fde-3bc7-4e3f-a8d3-bb91ef2c6502",
   "metadata": {},
   "outputs": [
    {
     "name": "stdin",
     "output_type": "stream",
     "text": [
      "Enter the temperature in Celsius 34\n"
     ]
    },
    {
     "name": "stdout",
     "output_type": "stream",
     "text": [
      "The value of 34.0 Celsius in Fahrenheit is 93.2 Fahrenheit\n"
     ]
    }
   ],
   "source": [
    "c=float(input('Enter the temperature in Celsius'))\n",
    "f=(c*9/5)+32\n",
    "print('The value of', c ,'Celsius in Fahrenheit is', f ,'Fahrenheit')"
   ]
  },
  {
   "cell_type": "markdown",
   "id": "8e3b6913-315c-4858-8381-cc3a57248c36",
   "metadata": {},
   "source": [
    "### String based questions ###\n",
    "1. Write a Python program that takes a string as input and prints the length of the string.\n"
   ]
  },
  {
   "cell_type": "code",
   "execution_count": 10,
   "id": "71d8da68-40d5-4285-ae9c-edc2815888c9",
   "metadata": {},
   "outputs": [
    {
     "name": "stdin",
     "output_type": "stream",
     "text": [
      "Type something Hello World!\n"
     ]
    },
    {
     "name": "stdout",
     "output_type": "stream",
     "text": [
      "The length of the entered string is 12\n"
     ]
    }
   ],
   "source": [
    "my_string = input('Type something')\n",
    "print('The length of the entered string is', len(my_string))"
   ]
  },
  {
   "cell_type": "markdown",
   "id": "e89ff001-5a0b-4408-aa33-9ea7c8162dd4",
   "metadata": {},
   "source": [
    "2. Create a program that takes a sentence from the user and counts the number of vowels (a, e, i, o, u) in the string.\n"
   ]
  },
  {
   "cell_type": "code",
   "execution_count": 11,
   "id": "9e248dad-bd38-4119-8af5-68f0703f72e3",
   "metadata": {},
   "outputs": [
    {
     "name": "stdin",
     "output_type": "stream",
     "text": [
      "Type something: The quick brown fox jumps over the lazy dog\n"
     ]
    },
    {
     "name": "stdout",
     "output_type": "stream",
     "text": [
      "The number of 'A's in the input is 1\n",
      "The number of 'E's in the input is 3\n",
      "The number of 'I's in the input is 1\n",
      "The number of 'O's in the input is 4\n",
      "The number of 'U's in the input is 2\n"
     ]
    }
   ],
   "source": [
    "new_string = input('Type something:')\n",
    "lower_string=new_string.lower()\n",
    "print(\"The number of 'A's in the input is\", lower_string.count('a'))\n",
    "print(\"The number of 'E's in the input is\", lower_string.count('e'))\n",
    "print(\"The number of 'I's in the input is\", lower_string.count('i'))\n",
    "print(\"The number of 'O's in the input is\", lower_string.count('o'))\n",
    "print(\"The number of 'U's in the input is\", lower_string.count('u'))"
   ]
  },
  {
   "cell_type": "markdown",
   "id": "92e08ce1-ef68-4da4-8e35-59d60090a0f0",
   "metadata": {},
   "source": [
    "3. Given a string, reverse the order of characters using string slicing and print the reversed string.\n"
   ]
  },
  {
   "cell_type": "code",
   "execution_count": 12,
   "id": "a0292601-5ad9-4e6e-bbed-5a72e6adb860",
   "metadata": {},
   "outputs": [
    {
     "name": "stdin",
     "output_type": "stream",
     "text": [
      "Enter the string to be reversed: PWSKILLS\n"
     ]
    },
    {
     "name": "stdout",
     "output_type": "stream",
     "text": [
      "The reversed string is SLLIKSWP\n"
     ]
    }
   ],
   "source": [
    "my_string = input('Enter the string to be reversed:')\n",
    "reversed_string = my_string[::-1]\n",
    "print('The reversed string is', reversed_string)\n"
   ]
  },
  {
   "cell_type": "markdown",
   "id": "3cccc1f9-2932-4346-a37f-640fa725096f",
   "metadata": {},
   "source": [
    "4. Write a program that takes a string as input and checks if it is a palindrome (reads the same forwards and backwards).\n"
   ]
  },
  {
   "cell_type": "code",
   "execution_count": 3,
   "id": "c3c0a9e6-81eb-4847-862d-88c4868a55eb",
   "metadata": {},
   "outputs": [
    {
     "name": "stdin",
     "output_type": "stream",
     "text": [
      "Enter a string to check if it is a palindrome or not NaMAN\n"
     ]
    },
    {
     "name": "stdout",
     "output_type": "stream",
     "text": [
      "The reversed string is NAMaN\n",
      "The entered string is not a palindrome\n"
     ]
    }
   ],
   "source": [
    "original_string = input('Enter a string to check if it is a palindrome or not')\n",
    "reversed_string = original_string[::-1]\n",
    "if reversed_string == original_string:\n",
    "    print('The reversed string is', reversed_string)\n",
    "    print(\"The entered string is a palindrome\")\n",
    "else:\n",
    "    print('The reversed string is', reversed_string)\n",
    "    print(\"The entered string is not a palindrome\")\n",
    "    "
   ]
  },
  {
   "cell_type": "markdown",
   "id": "9bd90820-76df-4997-b468-d532ed3389bb",
   "metadata": {},
   "source": [
    "5. Create a program that takes a string as input and removes all the spaces from it. Print the modified string without spaces.\n"
   ]
  },
  {
   "cell_type": "code",
   "execution_count": 5,
   "id": "035f9720-6c24-4297-a75a-b05230de7adc",
   "metadata": {},
   "outputs": [
    {
     "name": "stdin",
     "output_type": "stream",
     "text": [
      "Enter a string hello.   wroldsa\n"
     ]
    },
    {
     "name": "stdout",
     "output_type": "stream",
     "text": [
      "The input without any spaces is hello.wroldsa\n"
     ]
    }
   ],
   "source": [
    "new_string = input('Enter a string')\n",
    "modified_string = new_string.replace(\" \",'')\n",
    "print(\"The input without any spaces is\", modified_string)"
   ]
  },
  {
   "cell_type": "markdown",
   "id": "7455a6a5-7ba5-4048-b585-a0682c38886c",
   "metadata": {},
   "source": [
    "\n",
    "## ---------------------------------End of Assignment 1----------------------------------- ##\n",
    "### Submitted by - Sudhanshu Satpathy ###\n",
    "### Email - sudhanshu.satpathy100@gmail.com ###"
   ]
  }
 ],
 "metadata": {
  "kernelspec": {
   "display_name": "Python 3 (ipykernel)",
   "language": "python",
   "name": "python3"
  },
  "language_info": {
   "codemirror_mode": {
    "name": "ipython",
    "version": 3
   },
   "file_extension": ".py",
   "mimetype": "text/x-python",
   "name": "python",
   "nbconvert_exporter": "python",
   "pygments_lexer": "ipython3",
   "version": "3.10.8"
  }
 },
 "nbformat": 4,
 "nbformat_minor": 5
}
